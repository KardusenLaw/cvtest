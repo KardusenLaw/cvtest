{
 "cells": [
  {
   "attachments": {},
   "cell_type": "markdown",
   "id": "72c202b8",
   "metadata": {},
   "source": [
    "# LeNet-5手写体识别"
   ]
  },
  {
   "cell_type": "code",
   "execution_count": 1,
   "id": "112600e4",
   "metadata": {},
   "outputs": [],
   "source": [
    "import torch\n",
    "import torch.nn as nn\n",
    "import torch.nn.functional as F\n",
    "import torch.optim as optim\n",
    "from torchvision import datasets, transforms\n",
    "import time\n",
    "from matplotlib import pyplot as plt"
   ]
  },
  {
   "attachments": {},
   "cell_type": "markdown",
   "id": "389029b7",
   "metadata": {},
   "source": [
    "## 数据"
   ]
  },
  {
   "cell_type": "code",
   "execution_count": 2,
   "id": "519344b9",
   "metadata": {},
   "outputs": [],
   "source": [
    "trans_train = transforms.Compose([\n",
    "    # 随机翻转\n",
    "    transforms.RandomHorizontalFlip(),\n",
    "    transforms.Resize((32,32)),\n",
    "    transforms.ToTensor(),\n",
    "    #归一化\n",
    "    transforms.Normalize((0.1307,),(0.3081,))    \n",
    "])\n",
    "trans_test = transforms.Compose([\n",
    "    #将图片尺寸resize到32x32\n",
    "    transforms.Resize((32,32)),\n",
    "    transforms.ToTensor(),\n",
    "    transforms.Normalize((0.1307,),(0.3081,))\n",
    "])\n",
    "#下载数据集\n",
    "train_set = datasets.MNIST(root=\"./data\", train=True, download=True, transform=trans_train)\n",
    "test_set = datasets.MNIST(root=\"./data\", train=False, download=True, transform=trans_test)\n",
    "\n",
    "trainloader = torch.utils.data.DataLoader(train_set, batch_size=64, shuffle=True)\n",
    "testloader = torch.utils.data.DataLoader(test_set, batch_size=32, shuffle=False)"
   ]
  },
  {
   "attachments": {},
   "cell_type": "markdown",
   "id": "ca000ae8",
   "metadata": {},
   "source": [
    "## 网络结构"
   ]
  },
  {
   "cell_type": "code",
   "execution_count": 3,
   "id": "afa12d97",
   "metadata": {},
   "outputs": [],
   "source": [
    "# LeNet-5结构\n",
    "class LeNet(nn.Module):\n",
    "    def __init__(self):\n",
    "        super(LeNet, self).__init__()\n",
    "        self.conv1 = nn.Conv2d(1, 6, 5) \n",
    "        self.relu = nn.ReLU()\n",
    "        self.maxpool1 = nn.MaxPool2d(2, 2)\n",
    "        self.conv2 = nn.Conv2d(6, 16, 5)\n",
    "        self.maxpool2 = nn.MaxPool2d(2, 2)\n",
    "        self.fc1 = nn.Linear(16*5*5, 120)\n",
    "        self.fc2 = nn.Linear(120, 84)\n",
    "        self.fc3 = nn.Linear(84, 10)\n",
    " \n",
    "    def forward(self, x):\n",
    "        x = self.conv1(x)\n",
    "        x = self.relu(x)\n",
    "        x = self.maxpool1(x)\n",
    "        x = self.conv2(x)\n",
    "        x = self.maxpool2(x)\n",
    "        # 向量展平\n",
    "        x = x.view(-1, 16*5*5)\n",
    "        x = F.relu(self.fc1(x))\n",
    "        x = F.relu(self.fc2(x))\n",
    "        x = self.fc3(x)\n",
    "        output = F.log_softmax(x, dim=1)\n",
    "        return output"
   ]
  },
  {
   "cell_type": "code",
   "execution_count": 4,
   "id": "d34e3f5a",
   "metadata": {},
   "outputs": [],
   "source": [
    "#定义GPU\n",
    "device = torch.device(\"cuda\" if torch.cuda.is_available() else \"cpu\")\n",
    "model = LeNet().to(device)\n",
    "#优化器\n",
    "optimizer = optim.Adam(model.parameters(), lr=0.001)"
   ]
  },
  {
   "cell_type": "code",
   "execution_count": 5,
   "id": "979f2a50",
   "metadata": {},
   "outputs": [],
   "source": [
    "#训练过程\n",
    "def train_runner(model, device, trainloader, optimizer, epoch):\n",
    "    model.train()\n",
    "    total = 0\n",
    "    correct =0.0\n",
    "    \n",
    "    #enumerate迭代已加载的数据集,同时获取数据和数据下标\n",
    "    for i, data in enumerate(trainloader, 0):\n",
    "        inputs, labels = data\n",
    "        # ! 数据需要和模型在相同的device上\n",
    "        inputs, labels = inputs.to(device), labels.to(device)\n",
    "        #初始化梯度\n",
    "        optimizer.zero_grad()\n",
    "        outputs = model(inputs)\n",
    "        #交叉熵损失\n",
    "        loss = F.cross_entropy(outputs, labels)\n",
    "        #获取最大概率的预测结果\n",
    "        predict = outputs.argmax(dim=1)\n",
    "        total += labels.size(0)\n",
    "        # 分类正确了多少？\n",
    "        correct += (predict == labels).sum().item()\n",
    "        #反向传播\n",
    "        loss.backward()\n",
    "        #更新参数\n",
    "        optimizer.step()\n",
    "        if i % 1000 == 0:\n",
    "            #loss.item()表示当前loss的数值\n",
    "            print(\"Epoch{} \\t Loss: {:.6f}, 正确率: {:.6f}%\".format(epoch, loss.item(), 100*(correct/total)))\n",
    "            Loss.append(loss.item())\n",
    "            Accuracy.append(correct/total)\n",
    "    return loss.item(), correct/total"
   ]
  },
  {
   "cell_type": "code",
   "execution_count": 6,
   "id": "1434835e",
   "metadata": {},
   "outputs": [],
   "source": [
    "#测试过程\n",
    "def test_runner(model, device, testloader):\n",
    "    model.eval()\n",
    "    #统计模型正确率\n",
    "    correct = 0.0\n",
    "    test_loss = 0.0\n",
    "    total = 0\n",
    "    with torch.no_grad():\n",
    "        for data, label in testloader:\n",
    "            data, label = data.to(device), label.to(device)\n",
    "            output = model(data)\n",
    "            test_loss += F.cross_entropy(output, label).item()\n",
    "            predict = output.argmax(dim=1)\n",
    "            #计算正确数量\n",
    "            total += label.size(0)\n",
    "            correct += (predict == label).sum().item()\n",
    "\n",
    "        print(\"平均损失: {:.6f}, 正确率: {:.6f}%\".format(test_loss/total, 100*(correct/total)))"
   ]
  },
  {
   "attachments": {},
   "cell_type": "markdown",
   "id": "c0b31797",
   "metadata": {},
   "source": [
    "## 训练入口"
   ]
  },
  {
   "cell_type": "code",
   "execution_count": 8,
   "id": "02fdcd53",
   "metadata": {},
   "outputs": [
    {
     "name": "stdout",
     "output_type": "stream",
     "text": [
      "开始时间 2023-04-10 23:02:04\n",
      "Epoch1 \t Loss: 2.312547, 正确率: 9.375000%\n",
      "最优模型路径: ./models/model-mnist.pth\n",
      "平均损失: 0.003913, 正确率: 96.080000%\n",
      "结束时间:  2023-04-10 23:02:27 \n",
      "\n",
      "开始时间 2023-04-10 23:02:27\n",
      "Epoch2 \t Loss: 0.078142, 正确率: 95.312500%\n",
      "最优模型路径: ./models/model-mnist.pth\n",
      "平均损失: 0.002167, 正确率: 97.720000%\n",
      "结束时间:  2023-04-10 23:02:48 \n",
      "\n",
      "开始时间 2023-04-10 23:02:48\n",
      "Epoch3 \t Loss: 0.038341, 正确率: 98.437500%\n",
      "最优模型路径: ./models/model-mnist.pth\n",
      "平均损失: 0.001900, 正确率: 98.060000%\n",
      "结束时间:  2023-04-10 23:03:09 \n",
      "\n",
      "开始时间 2023-04-10 23:03:09\n",
      "Epoch4 \t Loss: 0.059755, 正确率: 98.437500%\n",
      "最优模型路径: ./models/model-mnist.pth\n",
      "平均损失: 0.002033, 正确率: 97.950000%\n",
      "结束时间:  2023-04-10 23:03:30 \n",
      "\n",
      "开始时间 2023-04-10 23:03:30\n",
      "Epoch5 \t Loss: 0.014408, 正确率: 100.000000%\n",
      "最优模型路径: ./models/model-mnist.pth\n",
      "平均损失: 0.001998, 正确率: 98.110000%\n",
      "结束时间:  2023-04-10 23:03:50 \n",
      "\n",
      "done\n"
     ]
    }
   ],
   "source": [
    "# 入口\n",
    "epoch = 5\n",
    "Loss = []\n",
    "Accuracy = []\n",
    "best_acc = -1000\n",
    "for epoch in range(1, epoch+1):\n",
    "    print(\"开始时间\",time.strftime('%Y-%m-%d %H:%M:%S',time.localtime(time.time())))\n",
    "    loss, acc = train_runner(model, device, trainloader, optimizer, epoch)\n",
    "    # 保存最佳模型\n",
    "    if acc > best_acc:\n",
    "        torch.save(model, './models/model-mnist.pth')\n",
    "        print('最优模型路径:', './models/model-mnist.pth')\n",
    "    Loss.append(loss)\n",
    "    Accuracy.append(acc)\n",
    "    test_runner(model, device, testloader)\n",
    "    \n",
    "    print(\"结束时间: \",time.strftime('%Y-%m-%d %H:%M:%S',time.localtime(time.time())),'\\n')\n",
    "\n",
    "print('done')\n",
    "# plt.subplot(2,1,1)\n",
    "# plt.plot(Loss)\n",
    "# plt.title('Loss')\n",
    "# plt.show()\n",
    "# plt.subplot(2,1,2)\n",
    "# plt.plot(Accuracy)\n",
    "# plt.title('Accuracy')\n",
    "# plt.show()"
   ]
  },
  {
   "attachments": {},
   "cell_type": "markdown",
   "id": "40bbc7f7",
   "metadata": {},
   "source": [
    "### 查看效果"
   ]
  },
  {
   "cell_type": "code",
   "execution_count": 20,
   "id": "8099b72c",
   "metadata": {},
   "outputs": [
    {
     "name": "stdout",
     "output_type": "stream",
     "text": [
      "(1, 32, 32)\n",
      "(32, 32, 1)\n"
     ]
    },
    {
     "data": {
      "image/png": "[encoded data removed]",
      "text/plain": [
       "<Figure size 640x480 with 1 Axes>"
      ]
     },
     "metadata": {},
     "output_type": "display_data"
    },
    {
     "name": "stdout",
     "output_type": "stream",
     "text": [
      "概率： tensor([[7.0485e-43, 2.0739e-43, 2.4290e-26, 1.3876e-28, 2.9577e-09, 3.2027e-25,\n",
      "         5.3249e-44, 4.8450e-15, 4.4343e-22, 1.0000e+00]], device='cuda:0',\n",
      "       grad_fn=<SoftmaxBackward>)\n",
      "预测类别： 9\n"
     ]
    }
   ],
   "source": [
    "import cv2\n",
    "import torch\n",
    "import numpy as np\n",
    "import os\n",
    "os.environ[\"KMP_DUPLICATE_LIB_OK\"]=\"TRUE\"\n",
    "\n",
    "if __name__ == '__main__':\n",
    "    device = torch.device('cuda' if torch.cuda.is_available() else 'cpu')\n",
    "    model = torch.load('./models/model-mnist.pth') #加载模型\n",
    "    model = model.to(device)\n",
    "    model.eval()    #把模型转为test模式\n",
    "    \n",
    "    #读取要预测的图片\n",
    "    # img = cv2.imread(\"./images/test_mnist.jpg\")\n",
    "    img = test_set[9][0].numpy()\n",
    "    print(img.shape)\n",
    "    # 转化成opencv能处理的维度\n",
    "    img = np.transpose(img, [1,2,0])\n",
    "    print(img.shape)\n",
    "    img=cv2.resize(img,dsize=(32,32),interpolation=cv2.INTER_NEAREST)\n",
    "    plt.imshow(img,cmap=\"gray\") # 显示图片\n",
    "    plt.axis('off') # 不显示坐标轴\n",
    "    plt.show()\n",
    "    \n",
    "    # 导入图片，图片扩展后为[1，1，32，32]\n",
    "    trans = transforms.Compose(\n",
    "        [\n",
    "            transforms.ToTensor(),\n",
    "            transforms.Normalize((0.1307,), (0.3081,))\n",
    "        ])\n",
    "    img = trans(img)\n",
    "    img = img.to(device)\n",
    "    #图片扩展多一维batch\n",
    "    img = img.unsqueeze(0)\n",
    "   \n",
    "    # 预测 \n",
    "    output = model(img)\n",
    "    prob = F.softmax(output,dim=1) #prob是10个分类的概率\n",
    "    print(\"概率：\",prob)\n",
    "    value, predicted = torch.max(output.data, 1)\n",
    "    predict = output.argmax(dim=1)\n",
    "    print(\"预测类别：\",predict.item())\n",
    "\n"
   ]
  },
  {
   "cell_type": "code",
   "execution_count": null,
   "id": "76032e21",
   "metadata": {},
   "outputs": [],
   "source": []
  }
 ],
 "metadata": {
  "kernelspec": {
   "display_name": "imagesci",
   "language": "python",
   "name": "python3"
  },
  "language_info": {
   "codemirror_mode": {
    "name": "ipython",
    "version": 3
   },
   "file_extension": ".py",
   "mimetype": "text/x-python",
   "name": "python",
   "nbconvert_exporter": "python",
   "pygments_lexer": "ipython3",
   "version": "3.7.1"
  }
 },
 "nbformat": 4,
 "nbformat_minor": 5
}
