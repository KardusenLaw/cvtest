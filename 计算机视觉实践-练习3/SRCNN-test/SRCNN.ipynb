{
 "cells": [
  {
   "attachments": {},
   "cell_type": "markdown",
   "metadata": {},
   "source": [
    "# SRCNN在Set5上的测试"
   ]
  },
  {
   "cell_type": "code",
   "execution_count": 1,
   "metadata": {},
   "outputs": [],
   "source": [
    "import torch\n",
    "import torch.backends.cudnn as cudnn\n",
    "import numpy as np\n",
    "import PIL.Image as pil_image\n",
    "import torch.nn as nn\n",
    "import warnings\n",
    "warnings.filterwarnings(\"ignore\",category=DeprecationWarning)\n"
   ]
  },
  {
   "attachments": {},
   "cell_type": "markdown",
   "metadata": {},
   "source": [
    "### 定义模型"
   ]
  },
  {
   "cell_type": "code",
   "execution_count": 2,
   "metadata": {},
   "outputs": [],
   "source": [
    "class SRCNN(nn.Module):\n",
    "    def __init__(self, num_channels=1):\n",
    "        super(SRCNN, self).__init__()\n",
    "        self.conv1 = nn.Conv2d(num_channels, 64, kernel_size=9, padding=9 // 2)\n",
    "        self.conv2 = nn.Conv2d(64, 32, kernel_size=5, padding=5 // 2)\n",
    "        self.conv3 = nn.Conv2d(32, num_channels, kernel_size=5, padding=5 // 2)\n",
    "        self.relu = nn.ReLU(inplace=True)\n",
    "\n",
    "    def forward(self, x):\n",
    "        x = self.relu(self.conv1(x))\n",
    "        x = self.relu(self.conv2(x))\n",
    "        x = self.conv3(x)\n",
    "        return x"
   ]
  },
  {
   "attachments": {},
   "cell_type": "markdown",
   "metadata": {},
   "source": [
    "### 加载模型"
   ]
  },
  {
   "cell_type": "code",
   "execution_count": 3,
   "metadata": {},
   "outputs": [
    {
     "data": {
      "text/plain": [
       "SRCNN(\n",
       "  (conv1): Conv2d(1, 64, kernel_size=(9, 9), stride=(1, 1), padding=(4, 4))\n",
       "  (conv2): Conv2d(64, 32, kernel_size=(5, 5), stride=(1, 1), padding=(2, 2))\n",
       "  (conv3): Conv2d(32, 1, kernel_size=(5, 5), stride=(1, 1), padding=(2, 2))\n",
       "  (relu): ReLU(inplace=True)\n",
       ")"
      ]
     },
     "execution_count": 3,
     "metadata": {},
     "output_type": "execute_result"
    }
   ],
   "source": [
    "cudnn.benchmark = True\n",
    "device = torch.device('cuda:0' if torch.cuda.is_available() else 'cpu')\n",
    "model = SRCNN().to(device)\n",
    "model.load_state_dict(torch.load('model/srcnn_x3.pth'))\n",
    "model.eval()"
   ]
  },
  {
   "attachments": {},
   "cell_type": "markdown",
   "metadata": {},
   "source": [
    "### 加载测试数据"
   ]
  },
  {
   "cell_type": "code",
   "execution_count": 4,
   "metadata": {},
   "outputs": [],
   "source": [
    "import h5py\n",
    "# 仅用于测试\n",
    "test_imgs = []\n",
    "with h5py.File('Set5/Set5_x3.h5','r') as f:\n",
    "    # for fkey in f.keys():\n",
    "        # print(f[fkey], fkey)\n",
    "    hr_group = f[\"hr\"]\n",
    "    lr_group = f[\"lr\"]\n",
    "    for k in hr_group.keys():\n",
    "        img = hr_group[k][:]\n",
    "        test_imgs.append(img)\n"
   ]
  },
  {
   "attachments": {},
   "cell_type": "markdown",
   "metadata": {},
   "source": [
    "### 读取图像函数"
   ]
  },
  {
   "cell_type": "code",
   "execution_count": 5,
   "metadata": {},
   "outputs": [],
   "source": [
    "def convert_rgb_to_ycbcr(img):\n",
    "    '''\n",
    "    色彩空间转换：RGB转换到YCbCr空间\n",
    "    '''\n",
    "    if type(img) == np.ndarray:\n",
    "        # 根据已有的转换关系进行转换\n",
    "        y = 16. + (64.738 * img[:, :, 0] + 129.057 * img[:, :, 1] + 25.064 * img[:, :, 2]) / 256.\n",
    "        cb = 128. + (-37.945 * img[:, :, 0] - 74.494 * img[:, :, 1] + 112.439 * img[:, :, 2]) / 256.\n",
    "        cr = 128. + (112.439 * img[:, :, 0] - 94.154 * img[:, :, 1] - 18.285 * img[:, :, 2]) / 256.\n",
    "        return np.array([y, cb, cr]).transpose([1, 2, 0])\n",
    "    elif type(img) == torch.Tensor:\n",
    "        if len(img.shape) == 4:\n",
    "            img = img.squeeze(0)\n",
    "        y = 16. + (64.738 * img[0, :, :] + 129.057 * img[1, :, :] + 25.064 * img[2, :, :]) / 256.\n",
    "        cb = 128. + (-37.945 * img[0, :, :] - 74.494 * img[1, :, :] + 112.439 * img[2, :, :]) / 256.\n",
    "        cr = 128. + (112.439 * img[0, :, :] - 94.154 * img[1, :, :] - 18.285 * img[2, :, :]) / 256.\n",
    "        return torch.cat([y, cb, cr], 0).permute(1, 2, 0)\n",
    "\n",
    "def convert_ycbcr_to_rgb(img):\n",
    "    '''\n",
    "    YCbCr空间转换到RGB空间\n",
    "    '''\n",
    "    if type(img) == np.ndarray:\n",
    "        r = 298.082 * img[:, :, 0] / 256. + 408.583 * img[:, :, 2] / 256. - 222.921\n",
    "        g = 298.082 * img[:, :, 0] / 256. - 100.291 * img[:, :, 1] / 256. - 208.120 * img[:, :, 2] / 256. + 135.576\n",
    "        b = 298.082 * img[:, :, 0] / 256. + 516.412 * img[:, :, 1] / 256. - 276.836\n",
    "        return np.array([r, g, b]).transpose([1, 2, 0])\n",
    "    elif type(img) == torch.Tensor:\n",
    "        if len(img.shape) == 4:\n",
    "            img = img.squeeze(0)\n",
    "        r = 298.082 * img[0, :, :] / 256. + 408.583 * img[2, :, :] / 256. - 222.921\n",
    "        g = 298.082 * img[0, :, :] / 256. - 100.291 * img[1, :, :] / 256. - 208.120 * img[2, :, :] / 256. + 135.576\n",
    "        b = 298.082 * img[0, :, :] / 256. + 516.412 * img[1, :, :] / 256. - 276.836\n",
    "        return torch.cat([r, g, b], 0).permute(1, 2, 0)\n",
    "       \n",
    "def readImg2ycbcr(img_path, scale=3):\n",
    "    '''\n",
    "    读取图像，返回用BICUBIC下采样后的图像，作为测试图像。\n",
    "    同时返回原图，即gt，作为标签\n",
    "    '''\n",
    "    image = pil_image.open(img_path).convert('RGB')\n",
    "    gt = image\n",
    "\n",
    "    image_width = (image.width // scale) * scale\n",
    "    image_height = (image.height // scale) * scale\n",
    "    image = image.resize((image_width, image_height), resample=pil_image.BICUBIC)\n",
    "    image = image.resize((image.width // scale, image.height // scale), resample=pil_image.BICUBIC)\n",
    "    image = image.resize((image.width * scale, image.height * scale), resample=pil_image.BICUBIC)\n",
    "    image.save(img_path.replace('.', '_bicubic_x{}.'.format(scale)))\n",
    "    \n",
    "    image = np.array(image).astype(np.float32)\n",
    "    ycbcr = convert_rgb_to_ycbcr(image)\n",
    "    return ycbcr, gt"
   ]
  },
  {
   "attachments": {},
   "cell_type": "markdown",
   "metadata": {},
   "source": [
    "### 计算PSNR指标"
   ]
  },
  {
   "cell_type": "code",
   "execution_count": 6,
   "metadata": {},
   "outputs": [],
   "source": [
    "from torchvision import transforms\n",
    "def calc_psnr(img1, img2):\n",
    "    img1 = transforms.ToTensor()(img1).unsqueeze(0)\n",
    "    img2 = transforms.ToTensor()(img2).unsqueeze(0)\n",
    "    return 10. * torch.log10(1. / torch.mean((img1 - img2) ** 2))"
   ]
  },
  {
   "cell_type": "code",
   "execution_count": 7,
   "metadata": {},
   "outputs": [
    {
     "name": "stdout",
     "output_type": "stream",
     "text": [
      "image: test_imgs/Set5/head.png PSNR: 30.47\n",
      "image: test_imgs/Set5/woman.png PSNR: 29.77\n",
      "image: test_imgs/Set5/bird.png PSNR: 32.57\n",
      "image: test_imgs/Set5/baby.png PSNR: 33.48\n",
      "image: test_imgs/Set5/butterfly.png PSNR: 26.19\n"
     ]
    }
   ],
   "source": [
    "# 选取三幅图像做测试\n",
    "img_paths = ['test_imgs/Set5/head.png', 'test_imgs/Set5/woman.png', 'test_imgs/Set5/bird.png', 'test_imgs/Set5/baby.png', 'test_imgs/Set5/butterfly.png']\n",
    "scale = 3\n",
    "for ip in img_paths:\n",
    "    ycbcr, gt = readImg2ycbcr(ip)\n",
    "    # 得到y通道\n",
    "    y = ycbcr[..., 0]\n",
    "    # 归一化\n",
    "    y /= 255.\n",
    "    y = torch.from_numpy(y).to(device)\n",
    "\n",
    "    # 扩展通道维度和batch维度\n",
    "    y = y.unsqueeze(0).unsqueeze(0)\n",
    "    \n",
    "    # 测试过程不需要求导\n",
    "    with torch.no_grad():\n",
    "        # 输出归一化\n",
    "        preds = model(y).clamp(0.0, 1.0)\n",
    "\n",
    "    preds = preds.mul(255.0).cpu().numpy().squeeze(0).squeeze(0)\n",
    "    # 格式转换\n",
    "    output = np.array([preds, ycbcr[..., 1], ycbcr[..., 2]]).transpose([1, 2, 0])\n",
    "    # 转换回rgb\n",
    "    output = np.clip(convert_ycbcr_to_rgb(output), 0.0, 255.0).astype(np.uint8)\n",
    "    output = pil_image.fromarray(output)\n",
    "    output = output.resize(gt.size, resample=pil_image.Resampling.BICUBIC)\n",
    "    psnr = calc_psnr(output, gt)\n",
    "    print('image:', ip, 'PSNR: {:.2f}'.format(psnr))\n",
    "\n",
    "    output.save(ip.replace('.', '_srcnn_x{}.'.format(scale)))"
   ]
  },
  {
   "cell_type": "code",
   "execution_count": null,
   "metadata": {},
   "outputs": [],
   "source": []
  }
 ],
 "metadata": {
  "kernelspec": {
   "display_name": "torch3.8",
   "language": "python",
   "name": "python3"
  },
  "language_info": {
   "codemirror_mode": {
    "name": "ipython",
    "version": 3
   },
   "file_extension": ".py",
   "mimetype": "text/x-python",
   "name": "python",
   "nbconvert_exporter": "python",
   "pygments_lexer": "ipython3",
   "version": "3.8.0"
  },
  "orig_nbformat": 4
 },
 "nbformat": 4,
 "nbformat_minor": 2
}
